{
 "cells": [
  {
   "cell_type": "code",
   "execution_count": null,
   "id": "84d19a7e",
   "metadata": {},
   "outputs": [],
   "source": [
    "import pymongo\n",
    "import pandas as pd\n",
    "import numpy as np\n",
    "import json\n",
    "\n",
    "\n",
    "from tqdm.auto import tqdm"
   ]
  },
  {
   "cell_type": "code",
   "execution_count": null,
   "id": "6c5b9dc2",
   "metadata": {},
   "outputs": [],
   "source": [
    "host = 'testnet.toncenter.com'\n",
    "with open('../private/mongodb_password', 'r') as f:\n",
    "    password = f.read()\n",
    "\n",
    "client = pymongo.MongoClient(f'mongodb://user1:{password}@{host}:27017/test?authSource=admin&readPreference=primary&directConnection=true&ssl=false')\n",
    "client"
   ]
  },
  {
   "cell_type": "raw",
   "id": "9c8653d7",
   "metadata": {},
   "source": [
    "client.pyton.drop_collection('requests')"
   ]
  },
  {
   "cell_type": "code",
   "execution_count": null,
   "id": "e59a232d",
   "metadata": {
    "scrolled": false
   },
   "outputs": [],
   "source": [
    "host_set = set()\n",
    "\n",
    "req = {\n",
    "    'request.headers.host': 'testnet.toncenter.com', \n",
    "    'response.status_code': {\"$ne\": 200}\n",
    "}\n",
    "total = client.pyton.requests.count_documents({})\n",
    "count = client.pyton.requests.count_documents(req)\n",
    "it = client.pyton.requests.find({})\n",
    "\n",
    "if total > 0:\n",
    "    print(f'Errors: {count} / {total} = {count / total * 100:.2f}%')\n",
    "data = list(tqdm(it, total=count))"
   ]
  },
  {
   "cell_type": "code",
   "execution_count": null,
   "id": "d73fcb57",
   "metadata": {},
   "outputs": [],
   "source": [
    "stats_list = []\n",
    "for x in data:\n",
    "    body = x['request']['body']\n",
    "    try:\n",
    "        body = json.loads(x['request']['body'])\n",
    "    except:\n",
    "        body = {}\n",
    "    stats_list.append({\n",
    "        'url': x['request']['url'], \n",
    "        'method': body.get('method'),\n",
    "        'status_code': x['response']['status_code'],\n",
    "        'content_type': x['request']['headers'].get('content-type')\n",
    "    })"
   ]
  },
  {
   "cell_type": "code",
   "execution_count": null,
   "id": "5fe8f35a",
   "metadata": {},
   "outputs": [],
   "source": [
    "stats = pd.DataFrame(stats_list)\n",
    "bad_ct = stats[stats.content_type == 'text/plain;charset=UTF-8']\n",
    "print(f'Bad content_type: {bad_ct.shape[0]} / {stats.shape[0]} = {bad_ct.shape[0] / stats.shape[0] * 100:.2f}%')"
   ]
  },
  {
   "cell_type": "code",
   "execution_count": null,
   "id": "5c98f5f3",
   "metadata": {},
   "outputs": [],
   "source": [
    "stats = stats[stats.content_type != 'text/plain;charset=UTF-8']\n",
    "stats[['method', 'status_code']].value_counts().sort_index()"
   ]
  },
  {
   "cell_type": "code",
   "execution_count": null,
   "id": "48132082",
   "metadata": {
    "scrolled": false
   },
   "outputs": [],
   "source": [
    "for x in data:\n",
    "    status_code = x['response']['status_code']\n",
    "    content_type = x['request']['headers'].get('content-type')\n",
    "    if status_code == 200:\n",
    "        continue\n",
    "    if status_code == 422 and content_type == 'text/plain;charset=UTF-8':\n",
    "        continue\n",
    "    body = x['request']['body']\n",
    "    try:\n",
    "        req_body = json.loads(x['request']['body'])\n",
    "        res_body = json.loads(x['response']['body'])\n",
    "    except Exception as ee:\n",
    "        print(f'Failed to parse body: {ee}')\n",
    "        continue\n",
    "    if 'TypeError: __init__() takes exactly 3' in res_body['error']:\n",
    "        continue\n",
    "    print('=' * 100)\n",
    "    print('status_code:', status_code)\n",
    "    display(x['request'])\n",
    "    print(res_body.get('error'))"
   ]
  },
  {
   "cell_type": "code",
   "execution_count": null,
   "id": "59f1e993",
   "metadata": {},
   "outputs": [],
   "source": []
  }
 ],
 "metadata": {
  "kernelspec": {
   "display_name": "Python 3 (ipykernel)",
   "language": "python",
   "name": "python3"
  },
  "language_info": {
   "codemirror_mode": {
    "name": "ipython",
    "version": 3
   },
   "file_extension": ".py",
   "mimetype": "text/x-python",
   "name": "python",
   "nbconvert_exporter": "python",
   "pygments_lexer": "ipython3",
   "version": "3.8.10"
  }
 },
 "nbformat": 4,
 "nbformat_minor": 5
}
